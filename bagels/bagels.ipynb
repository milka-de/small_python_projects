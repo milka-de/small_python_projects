{
 "cells": [
  {
   "cell_type": "markdown",
   "id": "8f68c705",
   "metadata": {},
   "source": [
    "# Бейглз"
   ]
  },
  {
   "cell_type": "markdown",
   "id": "038801ba",
   "metadata": {},
   "source": [
    ">Беглз - дедуктивная логическая игра в которой необходимо угадать секретное число из трёх цифр. В ответ на попытки игра выдаёт одну из трёх подсказок, ориентируясь по ним нужно справиться с задачей за десять попыток"
   ]
  },
  {
   "cell_type": "code",
   "execution_count": null,
   "id": "ea42963b",
   "metadata": {},
   "outputs": [],
   "source": [
    "import random\n",
    "\n",
    "num_digits = 3 # константа сколькизначное число\n",
    "max_guesses = 10 # константа количество попыток\n",
    "\n",
    "def main():\n",
    "    print(''' Бэйглз\n",
    " Правила игры:\n",
    " необходимо по подсказкам угадать секретное число из {} цифр\n",
    " pico - если угадана цифра на неправильном месте \n",
    " fermi - если правильная цифра на правильном месте\n",
    " bagels - если не содержится правильных цифр'''.format(num_digits))\n",
    "\n",
    "    while True: # Основной цикл игры\n",
    "        secret_num = get_secret_num() # число, которое должен угадать игрок\n",
    "        print('Я загадал число')\n",
    "        print('У тебя есть {} попыток, чтобы угадать его'.format(max_guesses))\n",
    "\n",
    "        num_guesses=1\n",
    "        while num_guesses <= max_guesses:\n",
    "            guess= ''\n",
    "            # продолжаем итерации до получения правильной догадки:\n",
    "            while len(guess) != num_digits or not guess.isdecimal():\n",
    "                print('Попытка №{}:'.format(num_guesses))\n",
    "                guess=input('> ')\n",
    "            clues = get_clues(guess, secret_num)\n",
    "            print(clues)\n",
    "            num_guesses +=1\n",
    "\n",
    "            if guess == secret_num:\n",
    "                break # число угадано, выходим из цикла\n",
    "            if num_guesses > max_guesses:\n",
    "                print('У тебя закончились попытки')\n",
    "                print('Ответ был {}'.format(secret_num))\n",
    "        # спрашиваем иигрока, хочет ли он сыграть ещё раз\n",
    "        print('хочешь ссыграть ещё раз? (да или нет)')\n",
    "        if not input('> ').lower().startswith('д'):\n",
    "            break\n",
    "    print('Спасибо за игру!')\n",
    "\n",
    "# функция возвращающая строку из num_digits уникальных случайных цифр\n",
    "def get_secret_num():\n",
    "    numbers=list('0123456789') \n",
    "    random.shuffle(numbers)\n",
    "\n",
    "    secret_num=''\n",
    "    for i in range(num_digits):\n",
    "        secret_num += str(numbers[i])\n",
    "    return secret_num\n",
    "\n",
    "# функция возвращающая строку с подсказками\n",
    "def get_clues(guess, secret_num):\n",
    "    if guess==secret_num:\n",
    "        return 'Ты выиграл!'\n",
    "\n",
    "    clues=[]\n",
    "\n",
    "    for i in range(len(guess)):\n",
    "        if guess[i]==secret_num[i]:\n",
    "            # правильная цифра на правильном месте\n",
    "            clues.append(' fermi ')\n",
    "        elif guess[i] in secret_num:\n",
    "            # правильная цифра на неправильном месте\n",
    "            clues.append(' pico ')\n",
    "    if len(clues)==0:\n",
    "        # правильных цифр нет вообще\n",
    "        return ' bagels '\n",
    "    else:\n",
    "        # сортируем подсказки в алфовитном пордке, чтобы исходный порядок ни чего не выдавал\n",
    "        clues.sort()\n",
    "        # склеиваем список подсказок в одно строковое значение\n",
    "        return ''.join(clues)\n",
    "\n",
    "# если программа не импортируется, а запускается, производим запуск\n",
    "if __name__=='__main__':\n",
    "    main()\n"
   ]
  },
  {
   "cell_type": "markdown",
   "id": "d3ea9c9c",
   "metadata": {},
   "source": [
    "# Вопросы"
   ]
  },
  {
   "cell_type": "markdown",
   "id": "f1284841",
   "metadata": {},
   "source": [
    "* Что будет, если изменить константу `num_digits`?\n",
    "\n",
    "Число будет не трёхзначным, а стольки, скольки мы зададим.\n",
    "\n",
    "Но до 10ти, так как в функции get_secret_num() в строке 56 мы проходимся по списку у которого не хватает длины"
   ]
  },
  {
   "cell_type": "raw",
   "id": "ce707683",
   "metadata": {},
   "source": [
    "Traceback (most recent call last):\n",
    "  File \"c:\\Users\\User\\Desktop\\книги\\bagels.py\", line 84, in <module>\n",
    "    main()\n",
    "  File \"c:\\Users\\User\\Desktop\\книги\\bagels.py\", line 23, in main\n",
    "    secret_num = get_secret_num() # число, которое должен угадать игрок\n",
    "  File \"c:\\Users\\User\\Desktop\\книги\\bagels.py\", line 56, in get_secret_num\n",
    "    secret_num += str(numbers[i])\n",
    "IndexError: list index out of range"
   ]
  },
  {
   "cell_type": "markdown",
   "id": "bc969bb7",
   "metadata": {},
   "source": [
    "Также 10тизначное число является малоинформативным в плане подсказок, так как у нас будет 10 растасованных подсказок fermi и pico"
   ]
  },
  {
   "cell_type": "markdown",
   "id": "9ce066e7",
   "metadata": {},
   "source": [
    "* Что будет, если изменить константу `max__guesses`?\n",
    "\n",
    "В зависимости от того уменьшить эту константу или увеличить, количество попыток уменьшится или увеличится соответственно"
   ]
  },
  {
   "cell_type": "markdown",
   "id": "a4cf0f54",
   "metadata": {},
   "source": [
    "* Что будет, если задать значение `num_digits` больше 10?\n",
    "\n",
    "На этот вопрос ответ дан выше"
   ]
  },
  {
   "cell_type": "markdown",
   "id": "667ca787",
   "metadata": {},
   "source": [
    "* Что буде, если `secret_num`=`get_num()` в строке 23 заменть на `secret_secret_num='123'?\n",
    "\n",
    "Загаданное число станет константой и ответ будет всегда один - 123"
   ]
  },
  {
   "cell_type": "markdown",
   "id": "874e1091",
   "metadata": {},
   "source": [
    "* Какое сообщение вы получите, если удалите `num_guesses`=1 в строке 27?\n",
    "\n",
    "Сообщение об ошибке, которая говорит о использоваии переменной до её назначения"
   ]
  },
  {
   "cell_type": "raw",
   "id": "e1b13754",
   "metadata": {},
   "source": [
    "Traceback (most recent call last):\n",
    "  File \"c:\\Users\\User\\Desktop\\книги\\bagels.py\", line 84, in <module>\n",
    "    main()\n",
    "  File \"c:\\Users\\User\\Desktop\\книги\\bagels.py\", line 28, in main\n",
    "    while num_guesses <= max_guesses:\n",
    "UnboundLocalError: local variable 'num_guesses' referenced before assignment"
   ]
  },
  {
   "cell_type": "markdown",
   "id": "2fc801b9",
   "metadata": {},
   "source": [
    "* Что будет, если вы удалите или закомментируете random.shuffle(numbers) в строке 52? \n",
    "\n",
    "Искомое число всегд будет равно - 123, так как мы не выбираем его случайным образом"
   ]
  },
  {
   "cell_type": "markdown",
   "id": "19ec0968",
   "metadata": {},
   "source": [
    "* Что будет, если вы удалите if `guess` == `secret_num`: в строке 61 и следующую строчку?\n",
    "\n",
    "Вместо сообщения \"Ты выиграл!\" будет - fermi  fermi  fermi "
   ]
  },
  {
   "cell_type": "markdown",
   "id": "6afd05ae",
   "metadata": {},
   "source": [
    "* Что будет, если вы закомментируете `num_guuesses` +1 в строке 36?\n",
    "\n",
    "В сообщении о попытке будет всегда попытка № 1 и игра будет длиться пока не выиграешь, а не 10 раундов"
   ]
  },
  {
   "cell_type": "markdown",
   "id": "50f36878",
   "metadata": {},
   "source": [
    "# Выводы\n",
    "\n",
    "Интересная логичская игра в которой необходимо немного подумать\n",
    "\n",
    "Из интересного можно добавить:\n",
    "\n",
    "- Настройку некоторых параметров можно разрешить задать игроку\n",
    "\n",
    "        С помощью `input` попросить человека задать количество попыток и количество цифр\n",
    "    \n",
    "        Это поможет игроку самому задать сложность задачи (например миллион попыток на деситизначное число)\n",
    "    \n",
    "- Запретить игре начинать число с ноля\n",
    "\n",
    "        Когда человеку передаёшь задачу \"угадай 3хзначное число\", он думает о сотнях и числа как '023' не випсываются\n",
    "    \n",
    "        Для этого достаточно в функции `get_secret_num` добавить условие в строке 55 - если `number`[1]== '0': `secret_num` += str(`numbers`[i+1])\n",
    "    \n"
   ]
  },
  {
   "cell_type": "code",
   "execution_count": null,
   "id": "47f0acd1",
   "metadata": {},
   "outputs": [],
   "source": []
  }
 ],
 "metadata": {
  "kernelspec": {
   "display_name": "Python 3 (ipykernel)",
   "language": "python",
   "name": "python3"
  },
  "language_info": {
   "codemirror_mode": {
    "name": "ipython",
    "version": 3
   },
   "file_extension": ".py",
   "mimetype": "text/x-python",
   "name": "python",
   "nbconvert_exporter": "python",
   "pygments_lexer": "ipython3",
   "version": "3.9.12"
  },
  "latex_envs": {
   "LaTeX_envs_menu_present": true,
   "autoclose": true,
   "autocomplete": true,
   "bibliofile": "biblio.bib",
   "cite_by": "apalike",
   "current_citInitial": 1,
   "eqLabelWithNumbers": true,
   "eqNumInitial": 1,
   "hotkeys": {
    "equation": "Ctrl-E",
    "itemize": "Ctrl-I"
   },
   "labels_anchors": false,
   "latex_user_defs": false,
   "report_style_numbering": false,
   "user_envs_cfg": false
  },
  "nbTranslate": {
   "displayLangs": [
    "ru",
    "en"
   ],
   "hotkey": "alt-t",
   "langInMainMenu": true,
   "sourceLang": "en",
   "targetLang": "ru",
   "useGoogleTranslate": true
  },
  "toc": {
   "base_numbering": 1,
   "nav_menu": {},
   "number_sections": true,
   "sideBar": true,
   "skip_h1_title": false,
   "title_cell": "Table of Contents",
   "title_sidebar": "Contents",
   "toc_cell": false,
   "toc_position": {},
   "toc_section_display": true,
   "toc_window_display": false
  }
 },
 "nbformat": 4,
 "nbformat_minor": 5
}
